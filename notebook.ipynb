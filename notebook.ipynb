{
 "cells": [
  {
   "cell_type": "code",
   "execution_count": 1,
   "metadata": {
    "collapsed": false
   },
   "outputs": [],
   "source": [
    "from fieldanalysis.readers import SymPro\n",
    "import numpy as np\n",
    "import pandas as pd\n",
    "from fieldanalysis import readers\n",
    "from fieldanalysis import filters\n",
    "from fieldanalysis import analyses"
   ]
  },
  {
   "cell_type": "code",
   "execution_count": 2,
   "metadata": {
    "collapsed": true
   },
   "outputs": [],
   "source": [
    "#filename = '/media/public/anemos/353001_UL__Canyon_Tower_1_meas_2018.06.22-2018.11.15.txt'\n",
    "filename = 'tests/testfiles/symprotest.txt'"
   ]
  },
  {
   "cell_type": "code",
   "execution_count": 3,
   "metadata": {
    "collapsed": false
   },
   "outputs": [],
   "source": [
    "sym = SymPro(filename)"
   ]
  },
  {
   "cell_type": "code",
   "execution_count": 4,
   "metadata": {
    "collapsed": false
   },
   "outputs": [
    {
     "data": {
      "text/plain": [
       "[['NRG', 'Systems', 'SymphoniePRO', 'Desktop', 'Application'],\n",
       " ['Software',\n",
       "  'Version:',\n",
       "  '3.1.0.342',\n",
       "  '(build',\n",
       "  'built',\n",
       "  'by',\n",
       "  'CI',\n",
       "  'server',\n",
       "  '2017-09-14)'],\n",
       " ['Export', 'version:', '1'],\n",
       " ['Generated:', '2018-11-15', '14:45:37'],\n",
       " ['User:', 'NRGSYSTEMS\\\\eda'],\n",
       " [],\n",
       " ['Export', 'Parameters'],\n",
       " ['Site', 'Number:', '353001'],\n",
       " ['Data', 'Type:', 'Measurements'],\n",
       " ['Start', 'Date:', '2018-06-22'],\n",
       " ['End', 'Date:', '2018-11-15'],\n",
       " ['Filters', 'Applied:', 'False'],\n",
       " ['Configuration:', 'Default'],\n",
       " [],\n",
       " ['Site', 'Properties'],\n",
       " ['Site', 'Description:', 'UL', 'Canyon', 'Tower', '1'],\n",
       " ['Project:', 'RNRG', 'Field', 'Testing'],\n",
       " ['Tower:'],\n",
       " ['Location:', 'Canyon,', 'TX'],\n",
       " ['Coordinate', 'System:', 'WGS84'],\n",
       " ['Latitude:', '34.9632716'],\n",
       " ['Longitude:', '-101.8017200'],\n",
       " ['Elevation:', '1101'],\n",
       " ['Time', 'Zone:', 'UTC-6:00'],\n",
       " ['Site', 'Units:', 'SI'],\n",
       " [],\n",
       " ['Logger', 'History'],\n",
       " ['Date:', '2018-06-22', '00:00:00'],\n",
       " ['Model:', 'SymphoniePRO', 'Logger', '(8206)'],\n",
       " ['Serial', 'Number:', '820600123'],\n",
       " ['Firmware:', '2.3.0'],\n",
       " [],\n",
       " ['iPack', 'History'],\n",
       " ['Date:', '2018-06-22', '00:00:00'],\n",
       " ['Model:', 'iPackGPS', 'GSM', '3G', '(7984)'],\n",
       " ['Serial', 'Number:', '798401045'],\n",
       " ['Firmware:', '2.2.1'],\n",
       " [],\n",
       " ['Sensor', 'History'],\n",
       " ['Channel:', '1'],\n",
       " ['Effective', 'Date:', '2018-06-22', '00:00:00'],\n",
       " ['Type:', 'Anemometer'],\n",
       " ['Description:', 'NRG', 'S1', 'Anemometer'],\n",
       " ['Serial', 'Number:', '94050000022'],\n",
       " ['Height:', '58.00'],\n",
       " ['Bearing:', '100.00'],\n",
       " ['Scale', 'Factor:', '0.13089'],\n",
       " ['Offset:', '0.12710'],\n",
       " ['Units:', 'm/s'],\n",
       " [],\n",
       " ['Channel:', '2'],\n",
       " ['Effective', 'Date:', '2018-06-22', '00:00:00'],\n",
       " ['Type:', 'Anemometer'],\n",
       " ['Description:', 'NRG', 'S1', 'Anemometer'],\n",
       " ['Serial', 'Number:', '94050000009'],\n",
       " ['Height:', '50.00'],\n",
       " ['Bearing:', '100.00'],\n",
       " ['Scale', 'Factor:', '0.13063'],\n",
       " ['Offset:', '0.13900'],\n",
       " ['Units:', 'm/s'],\n",
       " [],\n",
       " ['Channel:', '3'],\n",
       " ['Effective', 'Date:', '2018-06-22', '00:00:00'],\n",
       " ['Type:', 'Anemometer'],\n",
       " ['Description:', 'NRG', 'S1', 'Anemometer'],\n",
       " ['Serial', 'Number:', '94050000013'],\n",
       " ['Height:', '42.00'],\n",
       " ['Bearing:', '100.00'],\n",
       " ['Scale', 'Factor:', '0.13092'],\n",
       " ['Offset:', '0.11700'],\n",
       " ['Units:', 'm/s'],\n",
       " [],\n",
       " ['Channel:', '4'],\n",
       " ['Effective', 'Date:', '2018-06-22', '00:00:00'],\n",
       " ['Type:', 'Anemometer'],\n",
       " ['Description:', 'NRG', 'S1', 'Anemometer'],\n",
       " ['Serial', 'Number:', '94050000032'],\n",
       " ['Height:', '54.00'],\n",
       " ['Bearing:', '260.00'],\n",
       " ['Scale', 'Factor:', '0.13089'],\n",
       " ['Offset:', '0.12120'],\n",
       " ['Units:', 'm/s'],\n",
       " [],\n",
       " ['Channel:', '5'],\n",
       " ['Effective', 'Date:', '2018-06-22', '00:00:00'],\n",
       " ['Type:', 'Anemometer'],\n",
       " ['Description:', 'Thies', 'FCA'],\n",
       " ['Serial', 'Number:', '08177585'],\n",
       " ['Height:', '58.00'],\n",
       " ['Bearing:', '260.00'],\n",
       " ['Scale', 'Factor:', '0.04618'],\n",
       " ['Offset:', '0.23404'],\n",
       " ['Units:', 'm/s'],\n",
       " [],\n",
       " ['Channel:', '6'],\n",
       " ['Effective', 'Date:', '2018-06-22', '00:00:00'],\n",
       " ['Type:', 'Anemometer'],\n",
       " ['Description:', 'Thies', 'FCA'],\n",
       " ['Serial', 'Number:', '08177596'],\n",
       " ['Height:', '50.00'],\n",
       " ['Bearing:', '260.00'],\n",
       " ['Scale', 'Factor:', '0.04611'],\n",
       " ['Offset:', '0.24483'],\n",
       " ['Units:', 'm/s'],\n",
       " [],\n",
       " ['Channel:', '7'],\n",
       " ['Effective', 'Date:', '2018-06-22', '00:00:00'],\n",
       " ['Type:', 'Anemometer'],\n",
       " ['Description:', 'NRG', 'S1', 'Anemometer'],\n",
       " ['Serial', 'Number:', '94050000003'],\n",
       " ['Height:', '46.00'],\n",
       " ['Bearing:', '100.00'],\n",
       " ['Scale', 'Factor:', '0.13098'],\n",
       " ['Offset:', '0.11310'],\n",
       " ['Units:', 'm/s'],\n",
       " [],\n",
       " ['Channel:', '8'],\n",
       " ['Effective', 'Date:', '2018-06-22', '00:00:00'],\n",
       " ['Type:', 'Anemometer'],\n",
       " ['Description:', 'NRG', '#40'],\n",
       " ['Serial', 'Number:', '179500307368'],\n",
       " ['Height:', '46.00'],\n",
       " ['Bearing:', '260.00'],\n",
       " ['Scale', 'Factor:', '0.76104'],\n",
       " ['Offset:', '0.33200'],\n",
       " ['Units:', 'm/s'],\n",
       " [],\n",
       " ['Channel:', '9'],\n",
       " ['Effective', 'Date:', '2018-06-22', '00:00:00'],\n",
       " ['Type:', 'Anemometer'],\n",
       " ['Description:', 'NRG', 'S1', 'Anemometer'],\n",
       " ['Serial', 'Number:', '94050000014'],\n",
       " ['Height:', '54.00'],\n",
       " ['Bearing:', '100.00'],\n",
       " ['Scale', 'Factor:', '0.13108'],\n",
       " ['Offset:', '0.10470'],\n",
       " ['Units:', 'm/s'],\n",
       " [],\n",
       " ['Channel:', '10'],\n",
       " ['Effective', 'Date:', '2018-06-22', '00:00:00'],\n",
       " ['Type:', 'Anemometer'],\n",
       " ['Description:', 'Thies', 'FCA'],\n",
       " ['Serial', 'Number:', '08177608'],\n",
       " ['Height:', '42.00'],\n",
       " ['Bearing:', '260.00'],\n",
       " ['Scale', 'Factor:', '0.04619'],\n",
       " ['Offset:', '0.22220'],\n",
       " ['Units:', 'm/s'],\n",
       " [],\n",
       " ['Channel:', '11'],\n",
       " ['Effective', 'Date:', '2018-06-22', '00:00:00'],\n",
       " ['Type:', 'Anemometer'],\n",
       " ['Description:', 'NRG', 'S1', 'Anemometer'],\n",
       " ['Serial', 'Number:', '94050000012'],\n",
       " ['Height:', '38.00'],\n",
       " ['Bearing:', '100.00'],\n",
       " ['Scale', 'Factor:', '0.13060'],\n",
       " ['Offset:', '0.13260'],\n",
       " ['Units:', 'm/s'],\n",
       " [],\n",
       " ['Channel:', '12'],\n",
       " ['Effective', 'Date:', '2018-06-22', '00:00:00'],\n",
       " ['Type:', 'Anemometer'],\n",
       " ['Description:', 'RNRG', 'Class', '1'],\n",
       " ['Serial', 'Number:', '596600008817'],\n",
       " ['Height:', '38.00'],\n",
       " ['Bearing:', '260.00'],\n",
       " ['Scale', 'Factor:', '0.75864'],\n",
       " ['Offset:', '0.25800'],\n",
       " ['Units:', 'm/s'],\n",
       " [],\n",
       " ['Channel:', '13'],\n",
       " ['Effective', 'Date:', '2018-06-22', '00:00:00'],\n",
       " ['Type:', 'Vane'],\n",
       " ['Description:', 'RNRG', '200P', 'Vane'],\n",
       " ['Serial', 'Number:'],\n",
       " ['Height:', '17.50'],\n",
       " ['Bearing:', '170.00'],\n",
       " ['Vane', 'Mounting', 'Angle:', '180.00'],\n",
       " ['Units:', 'deg'],\n",
       " [],\n",
       " ['Channel:', '14'],\n",
       " ['Effective', 'Date:', '2018-06-22', '00:00:00'],\n",
       " ['Type:', 'Vane'],\n",
       " ['Description:', 'RNRG', '200P', 'Vane'],\n",
       " ['Serial', 'Number:'],\n",
       " ['Height:', '49.00'],\n",
       " ['Bearing:', '170.00'],\n",
       " ['Vane', 'Mounting', 'Angle:', '180.00'],\n",
       " ['Units:', 'deg'],\n",
       " [],\n",
       " ['Channel:', '15'],\n",
       " ['Effective', 'Date:', '2018-06-22', '00:00:00'],\n",
       " ['Type:', 'Vane'],\n",
       " ['Description:', 'Vector', 'W200P'],\n",
       " ['Serial', 'Number:', '62056-CV56'],\n",
       " ['Height:', '41.00'],\n",
       " ['Bearing:', '170.00'],\n",
       " ['Vane', 'Mounting', 'Angle:', '180.00'],\n",
       " ['Units:', 'deg'],\n",
       " [],\n",
       " ['Channel:', '16'],\n",
       " ['Effective', 'Date:', '2018-06-22', '00:00:00'],\n",
       " ['Type:', 'Analog'],\n",
       " ['Description:', 'RNRG', '110S', 'Temp'],\n",
       " ['Serial', 'Number:', '903500030'],\n",
       " ['Height:', '56.00'],\n",
       " ['Bearing:', '180.00'],\n",
       " ['Scale', 'Factor:', '55.67960'],\n",
       " ['Offset:', '-86.46500'],\n",
       " ['Units:', 'C'],\n",
       " [],\n",
       " ['Channel:', '17'],\n",
       " ['Effective', 'Date:', '2018-06-22', '00:00:00'],\n",
       " ['Type:', 'Analog'],\n",
       " ['Description:', 'RNRG', '110S', 'Temp'],\n",
       " ['Serial', 'Number:', '442803316'],\n",
       " ['Height:', '2.00'],\n",
       " ['Bearing:', '180.00'],\n",
       " ['Scale', 'Factor:', '55.88290'],\n",
       " ['Offset:', '-86.78500'],\n",
       " ['Units:', 'C'],\n",
       " [],\n",
       " ['Channel:', '18'],\n",
       " ['Effective', 'Date:', '2018-06-22', '00:00:00'],\n",
       " ['Type:', 'Analog'],\n",
       " ['Description:', 'RNRG', 'BP20', 'Baro'],\n",
       " ['Serial', 'Number:', '180526369'],\n",
       " ['Height:', '2.00'],\n",
       " ['Bearing:'],\n",
       " ['Scale', 'Factor:', '217.90000'],\n",
       " ['Offset:', '109.30000'],\n",
       " ['Units:', 'mb'],\n",
       " [],\n",
       " ['Channel:', '19'],\n",
       " ['Effective', 'Date:', '2018-06-22', '00:00:00'],\n",
       " ['Type:', 'Analog'],\n",
       " ['Description:', 'RNRG', 'RH5X', 'Humi'],\n",
       " ['Serial', 'Number:'],\n",
       " ['Height:', '2.00'],\n",
       " ['Bearing:', '180.00'],\n",
       " ['Scale', 'Factor:', '20.00000'],\n",
       " ['Offset:', '0.00000'],\n",
       " ['Units:', '%RH'],\n",
       " [],\n",
       " ['Channel:', '20'],\n",
       " ['Effective', 'Date:', '2018-06-22', '00:00:00'],\n",
       " ['Type:', 'Analog'],\n",
       " ['Description:', 'LI-COR', 'Pyra'],\n",
       " ['Serial', 'Number:', 'PY89824'],\n",
       " ['Height:', '4.00'],\n",
       " ['Bearing:', '180.00'],\n",
       " ['Scale', 'Factor:', '11.52000'],\n",
       " ['Offset:', '0.00000'],\n",
       " ['Units:', 'W/sqm'],\n",
       " ['P-SCM',\n",
       "  'Type:',\n",
       "  'P-SCM',\n",
       "  '#9129,',\n",
       "  '(0',\n",
       "  'to',\n",
       "  '160)',\n",
       "  'uA,',\n",
       "  'SE',\n",
       "  'Input,',\n",
       "  'No',\n",
       "  'EXC'],\n",
       " [],\n",
       " ['Channel:', '21'],\n",
       " ['Effective', 'Date:', '2018-06-22', '00:00:00'],\n",
       " ['Type:', 'Analog'],\n",
       " ['Description:', 'RM', 'Young27106'],\n",
       " ['Serial', 'Number:', 'PA4909'],\n",
       " ['Height:', '52.00'],\n",
       " ['Bearing:', '180.00'],\n",
       " ['Scale', 'Factor:', '18.00000'],\n",
       " ['Offset:', '0.00000'],\n",
       " ['Units:', 'm/s'],\n",
       " ['P-SCM',\n",
       "  'Type:',\n",
       "  'P-SCM',\n",
       "  '#9134,',\n",
       "  '(-2.5',\n",
       "  'to',\n",
       "  '2.5)',\n",
       "  'V,',\n",
       "  'SE',\n",
       "  'Input,',\n",
       "  'No',\n",
       "  'EXC'],\n",
       " [],\n",
       " ['Channel:', '22'],\n",
       " ['Effective', 'Date:', '2018-06-22', '00:00:00'],\n",
       " ['Type:', 'Vane', 'w/Offset'],\n",
       " ['Description:', 'RNRG', '200M', 'Vane'],\n",
       " ['Serial', 'Number:', '1007000000016'],\n",
       " ['Height:', '20.00'],\n",
       " ['Bearing:', '100.00'],\n",
       " ['Vane', 'Mounting', 'Angle:', '180.00'],\n",
       " ['Units:', 'deg'],\n",
       " ['P-SCM',\n",
       "  'Type:',\n",
       "  'P-SCM',\n",
       "  '#9130,',\n",
       "  '(0',\n",
       "  'to',\n",
       "  '5)',\n",
       "  'V,',\n",
       "  'SE',\n",
       "  'Input,',\n",
       "  'Pulsed',\n",
       "  '5V',\n",
       "  'EXC'],\n",
       " [],\n",
       " ['Channel:', '23'],\n",
       " ['Effective', 'Date:', '2018-06-22', '00:00:00'],\n",
       " ['Type:', 'Vane', 'w/Offset'],\n",
       " ['Description:', 'RNRG', '200M', 'Vane'],\n",
       " ['Serial', 'Number:', '1007000000017'],\n",
       " ['Height:', '20.00'],\n",
       " ['Bearing:', '260.00'],\n",
       " ['Vane', 'Mounting', 'Angle:', '180.00'],\n",
       " ['Units:', 'deg'],\n",
       " ['P-SCM',\n",
       "  'Type:',\n",
       "  'P-SCM',\n",
       "  '#9130,',\n",
       "  '(0',\n",
       "  'to',\n",
       "  '5)',\n",
       "  'V,',\n",
       "  'SE',\n",
       "  'Input,',\n",
       "  'Pulsed',\n",
       "  '5V',\n",
       "  'EXC'],\n",
       " [],\n",
       " ['Channel:', '24'],\n",
       " ['Effective', 'Date:', '2018-06-22', '00:00:00'],\n",
       " ['Type:', 'Vane', 'w/Offset'],\n",
       " ['Description:', 'RNRG', '200M', 'Vane'],\n",
       " ['Serial', 'Number:', '1007000000024'],\n",
       " ['Height:', '15.00'],\n",
       " ['Bearing:', '100.00'],\n",
       " ['Vane', 'Mounting', 'Angle:', '180.00'],\n",
       " ['Units:', 'deg'],\n",
       " ['P-SCM',\n",
       "  'Type:',\n",
       "  'P-SCM',\n",
       "  '#9130,',\n",
       "  '(0',\n",
       "  'to',\n",
       "  '5)',\n",
       "  'V,',\n",
       "  'SE',\n",
       "  'Input,',\n",
       "  'Pulsed',\n",
       "  '5V',\n",
       "  'EXC'],\n",
       " [],\n",
       " ['Channel:', '25'],\n",
       " ['Effective', 'Date:', '2018-06-22', '00:00:00'],\n",
       " ['Type:', 'Vane', 'w/Offset'],\n",
       " ['Description:', 'RNRG', '200M', 'Vane'],\n",
       " ['Serial', 'Number:', '1007000000019'],\n",
       " ['Height:', '15.00'],\n",
       " ['Bearing:', '260.00'],\n",
       " ['Vane', 'Mounting', 'Angle:', '180.00'],\n",
       " ['Units:', 'deg'],\n",
       " ['P-SCM',\n",
       "  'Type:',\n",
       "  'P-SCM',\n",
       "  '#9130,',\n",
       "  '(0',\n",
       "  'to',\n",
       "  '5)',\n",
       "  'V,',\n",
       "  'SE',\n",
       "  'Input,',\n",
       "  'Pulsed',\n",
       "  '5V',\n",
       "  'EXC'],\n",
       " [],\n",
       " ['Channel:', '26'],\n",
       " ['Effective', 'Date:', '2018-06-22', '00:00:00'],\n",
       " ['Type:', 'Vane', 'w/Offset'],\n",
       " ['Description:', 'RNRG', '200M', 'Vane'],\n",
       " ['Serial', 'Number:', '1007000000018'],\n",
       " ['Height:', '57.00'],\n",
       " ['Bearing:', '170.00'],\n",
       " ['Vane', 'Mounting', 'Angle:', '180.00'],\n",
       " ['Units:', 'deg'],\n",
       " ['P-SCM',\n",
       "  'Type:',\n",
       "  'P-SCM',\n",
       "  '#9130,',\n",
       "  '(0',\n",
       "  'to',\n",
       "  '5)',\n",
       "  'V,',\n",
       "  'SE',\n",
       "  'Input,',\n",
       "  'Pulsed',\n",
       "  '5V',\n",
       "  'EXC'],\n",
       " [],\n",
       " ['Data']]"
      ]
     },
     "execution_count": 4,
     "metadata": {},
     "output_type": "execute_result"
    }
   ],
   "source": [
    "sym.header"
   ]
  },
  {
   "cell_type": "code",
   "execution_count": 5,
   "metadata": {
    "collapsed": false
   },
   "outputs": [],
   "source": [
    "data = sym.data"
   ]
  },
  {
   "cell_type": "code",
   "execution_count": 6,
   "metadata": {
    "collapsed": false
   },
   "outputs": [
    {
     "data": {
      "text/plain": [
       "0     True\n",
       "1     True\n",
       "2     True\n",
       "3     True\n",
       "4    False\n",
       "Name: Timestamp, dtype: bool"
      ]
     },
     "execution_count": 6,
     "metadata": {},
     "output_type": "execute_result"
    }
   ],
   "source": [
    "(data['Timestamp'] >= '2018-06-22 00:00:00') & (data['Timestamp'] <= '2018-06-22 00:30:00')"
   ]
  },
  {
   "cell_type": "code",
   "execution_count": 7,
   "metadata": {
    "collapsed": false
   },
   "outputs": [
    {
     "data": {
      "text/plain": [
       "Timestamp\n",
       "2018-06-22 00:00:00    8.722646\n",
       "2018-06-22 00:10:00    8.591756\n",
       "2018-06-22 00:20:00    8.678144\n",
       "dtype: float64"
      ]
     },
     "execution_count": 7,
     "metadata": {},
     "output_type": "execute_result"
    }
   ],
   "source": [
    "timeseries = sym.get_timeseries('Ch1_Anem_58.00m_E_Gust_m/s','2018-06-22 00:00:00','2018-06-22 00:20:00')\n",
    "timeseries"
   ]
  },
  {
   "cell_type": "code",
   "execution_count": 8,
   "metadata": {
    "collapsed": false
   },
   "outputs": [
    {
     "data": {
      "text/html": [
       "<div>\n",
       "<style scoped>\n",
       "    .dataframe tbody tr th:only-of-type {\n",
       "        vertical-align: middle;\n",
       "    }\n",
       "\n",
       "    .dataframe tbody tr th {\n",
       "        vertical-align: top;\n",
       "    }\n",
       "\n",
       "    .dataframe thead th {\n",
       "        text-align: right;\n",
       "    }\n",
       "</style>\n",
       "<table border=\"1\" class=\"dataframe\">\n",
       "  <thead>\n",
       "    <tr style=\"text-align: right;\">\n",
       "      <th></th>\n",
       "      <th>Timestamp</th>\n",
       "      <th>Ch1_Anem_58.00m_E_Avg_m/s</th>\n",
       "      <th>Ch1_Anem_58.00m_E_SD_m/s</th>\n",
       "      <th>Ch1_Anem_58.00m_E_Min_m/s</th>\n",
       "      <th>Ch1_Anem_58.00m_E_Max_m/s</th>\n",
       "      <th>Ch1_Anem_58.00m_E_Gust_m/s</th>\n",
       "      <th>Ch2_Anem_50.00m_E_Avg_m/s</th>\n",
       "      <th>Ch2_Anem_50.00m_E_SD_m/s</th>\n",
       "      <th>Ch2_Anem_50.00m_E_Min_m/s</th>\n",
       "      <th>Ch2_Anem_50.00m_E_Max_m/s</th>\n",
       "      <th>...</th>\n",
       "      <th>Ch23_Vane_20.00m_W_GustDir_deg</th>\n",
       "      <th>Ch24_Vane_15.00m_E_Avg_deg</th>\n",
       "      <th>Ch24_Vane_15.00m_E_SD_deg</th>\n",
       "      <th>Ch24_Vane_15.00m_E_GustDir_deg</th>\n",
       "      <th>Ch25_Vane_15.00m_W_Avg_deg</th>\n",
       "      <th>Ch25_Vane_15.00m_W_SD_deg</th>\n",
       "      <th>Ch25_Vane_15.00m_W_GustDir_deg</th>\n",
       "      <th>Ch26_Vane_57.00m_S_Avg_deg</th>\n",
       "      <th>Ch26_Vane_57.00m_S_SD_deg</th>\n",
       "      <th>Ch26_Vane_57.00m_S_GustDir_deg</th>\n",
       "    </tr>\n",
       "  </thead>\n",
       "  <tbody>\n",
       "    <tr>\n",
       "      <th>0</th>\n",
       "      <td>2018-06-22 00:00:00</td>\n",
       "      <td>7.611390</td>\n",
       "      <td>0.393455</td>\n",
       "      <td>6.54071</td>\n",
       "      <td>8.76584</td>\n",
       "      <td>8.722646</td>\n",
       "      <td>7.549248</td>\n",
       "      <td>0.398813</td>\n",
       "      <td>6.14798</td>\n",
       "      <td>9.02184</td>\n",
       "      <td>...</td>\n",
       "      <td>131.21</td>\n",
       "      <td>132.30</td>\n",
       "      <td>4.73</td>\n",
       "      <td>133.77</td>\n",
       "      <td>129.28</td>\n",
       "      <td>4.18</td>\n",
       "      <td>80.0</td>\n",
       "      <td>152.62</td>\n",
       "      <td>5.19</td>\n",
       "      <td>350.0</td>\n",
       "    </tr>\n",
       "    <tr>\n",
       "      <th>1</th>\n",
       "      <td>2018-06-22 00:10:00</td>\n",
       "      <td>7.505762</td>\n",
       "      <td>0.498560</td>\n",
       "      <td>6.01715</td>\n",
       "      <td>8.89673</td>\n",
       "      <td>8.591756</td>\n",
       "      <td>7.240961</td>\n",
       "      <td>0.417885</td>\n",
       "      <td>5.88672</td>\n",
       "      <td>8.49932</td>\n",
       "      <td>...</td>\n",
       "      <td>141.67</td>\n",
       "      <td>138.38</td>\n",
       "      <td>4.93</td>\n",
       "      <td>143.75</td>\n",
       "      <td>135.33</td>\n",
       "      <td>4.52</td>\n",
       "      <td>80.0</td>\n",
       "      <td>158.80</td>\n",
       "      <td>6.20</td>\n",
       "      <td>350.0</td>\n",
       "    </tr>\n",
       "    <tr>\n",
       "      <th>2</th>\n",
       "      <td>2018-06-22 00:20:00</td>\n",
       "      <td>7.248432</td>\n",
       "      <td>0.461256</td>\n",
       "      <td>5.88626</td>\n",
       "      <td>8.89673</td>\n",
       "      <td>8.678144</td>\n",
       "      <td>6.980354</td>\n",
       "      <td>0.360800</td>\n",
       "      <td>6.01735</td>\n",
       "      <td>8.23806</td>\n",
       "      <td>...</td>\n",
       "      <td>136.15</td>\n",
       "      <td>139.74</td>\n",
       "      <td>4.15</td>\n",
       "      <td>131.67</td>\n",
       "      <td>135.94</td>\n",
       "      <td>3.85</td>\n",
       "      <td>80.0</td>\n",
       "      <td>160.42</td>\n",
       "      <td>6.15</td>\n",
       "      <td>350.0</td>\n",
       "    </tr>\n",
       "    <tr>\n",
       "      <th>3</th>\n",
       "      <td>2018-06-22 00:30:00</td>\n",
       "      <td>7.176835</td>\n",
       "      <td>0.374215</td>\n",
       "      <td>6.01715</td>\n",
       "      <td>8.11139</td>\n",
       "      <td>8.068196</td>\n",
       "      <td>6.776049</td>\n",
       "      <td>0.304107</td>\n",
       "      <td>5.88672</td>\n",
       "      <td>7.71554</td>\n",
       "      <td>...</td>\n",
       "      <td>143.08</td>\n",
       "      <td>139.33</td>\n",
       "      <td>4.30</td>\n",
       "      <td>149.12</td>\n",
       "      <td>135.79</td>\n",
       "      <td>4.01</td>\n",
       "      <td>80.0</td>\n",
       "      <td>166.58</td>\n",
       "      <td>4.21</td>\n",
       "      <td>350.0</td>\n",
       "    </tr>\n",
       "    <tr>\n",
       "      <th>4</th>\n",
       "      <td>2018-11-14 23:50:00</td>\n",
       "      <td>7.820422</td>\n",
       "      <td>0.146728</td>\n",
       "      <td>7.45694</td>\n",
       "      <td>8.11139</td>\n",
       "      <td>8.068196</td>\n",
       "      <td>7.784513</td>\n",
       "      <td>0.108292</td>\n",
       "      <td>7.45428</td>\n",
       "      <td>8.10743</td>\n",
       "      <td>...</td>\n",
       "      <td>226.92</td>\n",
       "      <td>227.88</td>\n",
       "      <td>3.75</td>\n",
       "      <td>228.63</td>\n",
       "      <td>226.03</td>\n",
       "      <td>3.90</td>\n",
       "      <td>80.0</td>\n",
       "      <td>232.27</td>\n",
       "      <td>1.20</td>\n",
       "      <td>350.0</td>\n",
       "    </tr>\n",
       "  </tbody>\n",
       "</table>\n",
       "<p>5 rows × 109 columns</p>\n",
       "</div>"
      ],
      "text/plain": [
       "             Timestamp  Ch1_Anem_58.00m_E_Avg_m/s  Ch1_Anem_58.00m_E_SD_m/s  \\\n",
       "0  2018-06-22 00:00:00                   7.611390                  0.393455   \n",
       "1  2018-06-22 00:10:00                   7.505762                  0.498560   \n",
       "2  2018-06-22 00:20:00                   7.248432                  0.461256   \n",
       "3  2018-06-22 00:30:00                   7.176835                  0.374215   \n",
       "4  2018-11-14 23:50:00                   7.820422                  0.146728   \n",
       "\n",
       "   Ch1_Anem_58.00m_E_Min_m/s  Ch1_Anem_58.00m_E_Max_m/s  \\\n",
       "0                    6.54071                    8.76584   \n",
       "1                    6.01715                    8.89673   \n",
       "2                    5.88626                    8.89673   \n",
       "3                    6.01715                    8.11139   \n",
       "4                    7.45694                    8.11139   \n",
       "\n",
       "   Ch1_Anem_58.00m_E_Gust_m/s  Ch2_Anem_50.00m_E_Avg_m/s  \\\n",
       "0                    8.722646                   7.549248   \n",
       "1                    8.591756                   7.240961   \n",
       "2                    8.678144                   6.980354   \n",
       "3                    8.068196                   6.776049   \n",
       "4                    8.068196                   7.784513   \n",
       "\n",
       "   Ch2_Anem_50.00m_E_SD_m/s  Ch2_Anem_50.00m_E_Min_m/s  \\\n",
       "0                  0.398813                    6.14798   \n",
       "1                  0.417885                    5.88672   \n",
       "2                  0.360800                    6.01735   \n",
       "3                  0.304107                    5.88672   \n",
       "4                  0.108292                    7.45428   \n",
       "\n",
       "   Ch2_Anem_50.00m_E_Max_m/s               ...                \\\n",
       "0                    9.02184               ...                 \n",
       "1                    8.49932               ...                 \n",
       "2                    8.23806               ...                 \n",
       "3                    7.71554               ...                 \n",
       "4                    8.10743               ...                 \n",
       "\n",
       "   Ch23_Vane_20.00m_W_GustDir_deg  Ch24_Vane_15.00m_E_Avg_deg  \\\n",
       "0                          131.21                      132.30   \n",
       "1                          141.67                      138.38   \n",
       "2                          136.15                      139.74   \n",
       "3                          143.08                      139.33   \n",
       "4                          226.92                      227.88   \n",
       "\n",
       "   Ch24_Vane_15.00m_E_SD_deg  Ch24_Vane_15.00m_E_GustDir_deg  \\\n",
       "0                       4.73                          133.77   \n",
       "1                       4.93                          143.75   \n",
       "2                       4.15                          131.67   \n",
       "3                       4.30                          149.12   \n",
       "4                       3.75                          228.63   \n",
       "\n",
       "   Ch25_Vane_15.00m_W_Avg_deg  Ch25_Vane_15.00m_W_SD_deg  \\\n",
       "0                      129.28                       4.18   \n",
       "1                      135.33                       4.52   \n",
       "2                      135.94                       3.85   \n",
       "3                      135.79                       4.01   \n",
       "4                      226.03                       3.90   \n",
       "\n",
       "   Ch25_Vane_15.00m_W_GustDir_deg  Ch26_Vane_57.00m_S_Avg_deg  \\\n",
       "0                            80.0                      152.62   \n",
       "1                            80.0                      158.80   \n",
       "2                            80.0                      160.42   \n",
       "3                            80.0                      166.58   \n",
       "4                            80.0                      232.27   \n",
       "\n",
       "   Ch26_Vane_57.00m_S_SD_deg  Ch26_Vane_57.00m_S_GustDir_deg  \n",
       "0                       5.19                           350.0  \n",
       "1                       6.20                           350.0  \n",
       "2                       6.15                           350.0  \n",
       "3                       4.21                           350.0  \n",
       "4                       1.20                           350.0  \n",
       "\n",
       "[5 rows x 109 columns]"
      ]
     },
     "execution_count": 8,
     "metadata": {},
     "output_type": "execute_result"
    }
   ],
   "source": [
    "sym.data"
   ]
  },
  {
   "cell_type": "code",
   "execution_count": 9,
   "metadata": {
    "collapsed": false
   },
   "outputs": [],
   "source": [
    "from fieldanalysis import filters"
   ]
  },
  {
   "cell_type": "code",
   "execution_count": 10,
   "metadata": {
    "collapsed": false
   },
   "outputs": [],
   "source": [
    "Filter = filters.ClassicFilters(sym)"
   ]
  },
  {
   "cell_type": "code",
   "execution_count": 11,
   "metadata": {
    "collapsed": false
   },
   "outputs": [],
   "source": [
    "Filter.generate_icing_filter(temp='Ch17_Analog_2.00m_S_Avg_C',vaneSD='Ch26_Vane_57.00m_S_SD_deg')"
   ]
  },
  {
   "cell_type": "code",
   "execution_count": 12,
   "metadata": {
    "collapsed": false
   },
   "outputs": [],
   "source": [
    "sym.apply_filters(Filter)\n"
   ]
  },
  {
   "cell_type": "code",
   "execution_count": 13,
   "metadata": {
    "collapsed": false
   },
   "outputs": [
    {
     "data": {
      "text/plain": [
       "True"
      ]
     },
     "execution_count": 13,
     "metadata": {},
     "output_type": "execute_result"
    }
   ],
   "source": [
    "sym.data.Timestamp.iloc[-1] == '2018-06-22 00:30:00'"
   ]
  },
  {
   "cell_type": "code",
   "execution_count": 14,
   "metadata": {
    "collapsed": true
   },
   "outputs": [],
   "source": [
    "sym.remove_filters()"
   ]
  },
  {
   "cell_type": "code",
   "execution_count": 15,
   "metadata": {
    "collapsed": false
   },
   "outputs": [
    {
     "data": {
      "text/plain": [
       "True"
      ]
     },
     "execution_count": 15,
     "metadata": {},
     "output_type": "execute_result"
    }
   ],
   "source": [
    "sym.data.shape == (5,109)"
   ]
  },
  {
   "cell_type": "code",
   "execution_count": 16,
   "metadata": {
    "collapsed": false
   },
   "outputs": [
    {
     "data": {
      "text/plain": [
       "'2018-11-14 23:50:00'"
      ]
     },
     "execution_count": 16,
     "metadata": {},
     "output_type": "execute_result"
    }
   ],
   "source": [
    "sym.data.Timestamp.iloc[-1]"
   ]
  },
  {
   "cell_type": "code",
   "execution_count": 17,
   "metadata": {
    "collapsed": false
   },
   "outputs": [],
   "source": [
    "\n",
    "ca = analyses.ClassicAnalyses(sym)\n",
    "bins = [7,7.5,7.9]\n",
    "sensor = 'Ch1_Anem_58.00m_E_Avg_m/s'\n",
    "group = ca._bin_data(sensor,binBy=sensor,bins=bins)"
   ]
  },
  {
   "cell_type": "code",
   "execution_count": 18,
   "metadata": {
    "collapsed": false
   },
   "outputs": [],
   "source": [
    "elements = []\n",
    "for key in group.groups:\n",
    "    elements.append(group.get_group(key))"
   ]
  },
  {
   "cell_type": "code",
   "execution_count": 19,
   "metadata": {
    "collapsed": false
   },
   "outputs": [],
   "source": [
    "assert [element <= 6 for element in elements[0]]"
   ]
  },
  {
   "cell_type": "code",
   "execution_count": 20,
   "metadata": {
    "collapsed": false
   },
   "outputs": [
    {
     "data": {
      "text/plain": [
       "(2,)"
      ]
     },
     "execution_count": 20,
     "metadata": {},
     "output_type": "execute_result"
    }
   ],
   "source": [
    "elements[0].shape"
   ]
  },
  {
   "cell_type": "code",
   "execution_count": 21,
   "metadata": {
    "collapsed": false
   },
   "outputs": [
    {
     "name": "stdout",
     "output_type": "stream",
     "text": [
      "72\n"
     ]
    }
   ],
   "source": [
    "channel = 4\n",
    "for i,value in enumerate(sym.header):\n",
    "    if value == ['Channel:', str(channel)]:\n",
    "        print(i)"
   ]
  },
  {
   "cell_type": "code",
   "execution_count": 33,
   "metadata": {
    "collapsed": false
   },
   "outputs": [],
   "source": [
    "info = sym.get_info(2)"
   ]
  },
  {
   "cell_type": "code",
   "execution_count": 34,
   "metadata": {
    "collapsed": false
   },
   "outputs": [
    {
     "data": {
      "text/plain": [
       "dict_values(['Anemometer', '50.00', ['NRG', 'S1', 'Anemometer'], '94050000009', '0.13063', '0.13900'])"
      ]
     },
     "execution_count": 34,
     "metadata": {},
     "output_type": "execute_result"
    }
   ],
   "source": [
    "info.values()"
   ]
  },
  {
   "cell_type": "code",
   "execution_count": null,
   "metadata": {
    "collapsed": true
   },
   "outputs": [],
   "source": []
  }
 ],
 "metadata": {
  "kernelspec": {
   "display_name": "Python 3",
   "language": "python",
   "name": "python3"
  },
  "language_info": {
   "codemirror_mode": {
    "name": "ipython",
    "version": 3
   },
   "file_extension": ".py",
   "mimetype": "text/x-python",
   "name": "python",
   "nbconvert_exporter": "python",
   "pygments_lexer": "ipython3",
   "version": "3.6.7"
  }
 },
 "nbformat": 4,
 "nbformat_minor": 2
}
