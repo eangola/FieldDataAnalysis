{
 "cells": [
  {
   "cell_type": "code",
   "execution_count": null,
   "metadata": {
    "collapsed": false
   },
   "outputs": [],
   "source": [
    "from fieldanalysis.readers import SymPro\n",
    "import numpy as np\n",
    "import pandas as pd"
   ]
  },
  {
   "cell_type": "code",
   "execution_count": 2,
   "metadata": {
    "collapsed": true
   },
   "outputs": [],
   "source": [
    "#filename = '/media/public/anemos/353001_UL__Canyon_Tower_1_meas_2018.06.22-2018.11.15.txt'\n",
    "filename = 'tests/testfiles/symprotest.txt'"
   ]
  },
  {
   "cell_type": "code",
   "execution_count": 3,
   "metadata": {
    "collapsed": false
   },
   "outputs": [],
   "source": [
    "sym = SymPro(filename)"
   ]
  },
  {
   "cell_type": "code",
   "execution_count": 4,
   "metadata": {
    "collapsed": false
   },
   "outputs": [],
   "source": [
    "sym.header"
   ]
  },
  {
   "cell_type": "code",
   "execution_count": 5,
   "metadata": {
    "collapsed": false
   },
   "outputs": [],
   "source": [
    "data = sym.data"
   ]
  },
  {
   "cell_type": "code",
   "execution_count": 6,
   "metadata": {
    "collapsed": false
   },
   "outputs": [
    {
     "data": {
      "text/plain": [
       "0     True\n",
       "1     True\n",
       "2     True\n",
       "3     True\n",
       "4    False\n",
       "Name: Timestamp, dtype: bool"
      ]
     },
     "execution_count": 6,
     "metadata": {},
     "output_type": "execute_result"
    }
   ],
   "source": [
    "(data['Timestamp'] >= '2018-06-22 00:00:00') & (data['Timestamp'] <= '2018-06-22 00:30:00')"
   ]
  },
  {
   "cell_type": "code",
   "execution_count": 7,
   "metadata": {
    "collapsed": false
   },
   "outputs": [
    {
     "data": {
      "text/plain": [
       "(3, 2)"
      ]
     },
     "execution_count": 7,
     "metadata": {},
     "output_type": "execute_result"
    }
   ],
   "source": [
    "sym.get_timeseries('Ch1_Anem_58.00m_E_Gust_m/s','2018-06-22 00:00:00','2018-06-22 00:20:00').shape"
   ]
  },
  {
   "cell_type": "code",
   "execution_count": 8,
   "metadata": {
    "collapsed": false
   },
   "outputs": [
    {
     "data": {
      "text/html": [
       "<div>\n",
       "<table border=\"1\" class=\"dataframe\">\n",
       "  <thead>\n",
       "    <tr style=\"text-align: right;\">\n",
       "      <th></th>\n",
       "      <th>Timestamp</th>\n",
       "      <th>Ch1_Anem_58.00m_E_Avg_m/s</th>\n",
       "      <th>Ch1_Anem_58.00m_E_SD_m/s</th>\n",
       "      <th>Ch1_Anem_58.00m_E_Min_m/s</th>\n",
       "      <th>Ch1_Anem_58.00m_E_Max_m/s</th>\n",
       "      <th>Ch1_Anem_58.00m_E_Gust_m/s</th>\n",
       "      <th>Ch2_Anem_50.00m_E_Avg_m/s</th>\n",
       "      <th>Ch2_Anem_50.00m_E_SD_m/s</th>\n",
       "      <th>Ch2_Anem_50.00m_E_Min_m/s</th>\n",
       "      <th>Ch2_Anem_50.00m_E_Max_m/s</th>\n",
       "      <th>...</th>\n",
       "      <th>Ch23_Vane_20.00m_W_GustDir_deg</th>\n",
       "      <th>Ch24_Vane_15.00m_E_Avg_deg</th>\n",
       "      <th>Ch24_Vane_15.00m_E_SD_deg</th>\n",
       "      <th>Ch24_Vane_15.00m_E_GustDir_deg</th>\n",
       "      <th>Ch25_Vane_15.00m_W_Avg_deg</th>\n",
       "      <th>Ch25_Vane_15.00m_W_SD_deg</th>\n",
       "      <th>Ch25_Vane_15.00m_W_GustDir_deg</th>\n",
       "      <th>Ch26_Vane_57.00m_S_Avg_deg</th>\n",
       "      <th>Ch26_Vane_57.00m_S_SD_deg</th>\n",
       "      <th>Ch26_Vane_57.00m_S_GustDir_deg</th>\n",
       "    </tr>\n",
       "  </thead>\n",
       "  <tbody>\n",
       "    <tr>\n",
       "      <th>0</th>\n",
       "      <td>2018-06-22 00:00:00</td>\n",
       "      <td>7.611390</td>\n",
       "      <td>0.393455</td>\n",
       "      <td>6.54071</td>\n",
       "      <td>8.76584</td>\n",
       "      <td>8.722646</td>\n",
       "      <td>7.549248</td>\n",
       "      <td>0.398813</td>\n",
       "      <td>6.14798</td>\n",
       "      <td>9.02184</td>\n",
       "      <td>...</td>\n",
       "      <td>131.21</td>\n",
       "      <td>132.30</td>\n",
       "      <td>4.73</td>\n",
       "      <td>133.77</td>\n",
       "      <td>129.28</td>\n",
       "      <td>4.18</td>\n",
       "      <td>80.0</td>\n",
       "      <td>152.62</td>\n",
       "      <td>5.19</td>\n",
       "      <td>350.0</td>\n",
       "    </tr>\n",
       "    <tr>\n",
       "      <th>1</th>\n",
       "      <td>2018-06-22 00:10:00</td>\n",
       "      <td>7.505762</td>\n",
       "      <td>0.498560</td>\n",
       "      <td>6.01715</td>\n",
       "      <td>8.89673</td>\n",
       "      <td>8.591756</td>\n",
       "      <td>7.240961</td>\n",
       "      <td>0.417885</td>\n",
       "      <td>5.88672</td>\n",
       "      <td>8.49932</td>\n",
       "      <td>...</td>\n",
       "      <td>141.67</td>\n",
       "      <td>138.38</td>\n",
       "      <td>4.93</td>\n",
       "      <td>143.75</td>\n",
       "      <td>135.33</td>\n",
       "      <td>4.52</td>\n",
       "      <td>80.0</td>\n",
       "      <td>158.80</td>\n",
       "      <td>6.20</td>\n",
       "      <td>350.0</td>\n",
       "    </tr>\n",
       "    <tr>\n",
       "      <th>2</th>\n",
       "      <td>2018-06-22 00:20:00</td>\n",
       "      <td>7.248432</td>\n",
       "      <td>0.461256</td>\n",
       "      <td>5.88626</td>\n",
       "      <td>8.89673</td>\n",
       "      <td>8.678144</td>\n",
       "      <td>6.980354</td>\n",
       "      <td>0.360800</td>\n",
       "      <td>6.01735</td>\n",
       "      <td>8.23806</td>\n",
       "      <td>...</td>\n",
       "      <td>136.15</td>\n",
       "      <td>139.74</td>\n",
       "      <td>4.15</td>\n",
       "      <td>131.67</td>\n",
       "      <td>135.94</td>\n",
       "      <td>3.85</td>\n",
       "      <td>80.0</td>\n",
       "      <td>160.42</td>\n",
       "      <td>6.15</td>\n",
       "      <td>350.0</td>\n",
       "    </tr>\n",
       "    <tr>\n",
       "      <th>3</th>\n",
       "      <td>2018-06-22 00:30:00</td>\n",
       "      <td>7.176835</td>\n",
       "      <td>0.374215</td>\n",
       "      <td>6.01715</td>\n",
       "      <td>8.11139</td>\n",
       "      <td>8.068196</td>\n",
       "      <td>6.776049</td>\n",
       "      <td>0.304107</td>\n",
       "      <td>5.88672</td>\n",
       "      <td>7.71554</td>\n",
       "      <td>...</td>\n",
       "      <td>143.08</td>\n",
       "      <td>139.33</td>\n",
       "      <td>4.30</td>\n",
       "      <td>149.12</td>\n",
       "      <td>135.79</td>\n",
       "      <td>4.01</td>\n",
       "      <td>80.0</td>\n",
       "      <td>166.58</td>\n",
       "      <td>4.21</td>\n",
       "      <td>350.0</td>\n",
       "    </tr>\n",
       "    <tr>\n",
       "      <th>4</th>\n",
       "      <td>018-11-14 23:50:00</td>\n",
       "      <td>7.820422</td>\n",
       "      <td>0.146728</td>\n",
       "      <td>7.45694</td>\n",
       "      <td>8.11139</td>\n",
       "      <td>8.068196</td>\n",
       "      <td>7.784513</td>\n",
       "      <td>0.108292</td>\n",
       "      <td>7.45428</td>\n",
       "      <td>8.10743</td>\n",
       "      <td>...</td>\n",
       "      <td>226.92</td>\n",
       "      <td>227.88</td>\n",
       "      <td>3.75</td>\n",
       "      <td>228.63</td>\n",
       "      <td>226.03</td>\n",
       "      <td>3.90</td>\n",
       "      <td>80.0</td>\n",
       "      <td>232.27</td>\n",
       "      <td>1.20</td>\n",
       "      <td>350.0</td>\n",
       "    </tr>\n",
       "  </tbody>\n",
       "</table>\n",
       "<p>5 rows × 109 columns</p>\n",
       "</div>"
      ],
      "text/plain": [
       "             Timestamp  Ch1_Anem_58.00m_E_Avg_m/s  Ch1_Anem_58.00m_E_SD_m/s  \\\n",
       "0  2018-06-22 00:00:00                   7.611390                  0.393455   \n",
       "1  2018-06-22 00:10:00                   7.505762                  0.498560   \n",
       "2  2018-06-22 00:20:00                   7.248432                  0.461256   \n",
       "3  2018-06-22 00:30:00                   7.176835                  0.374215   \n",
       "4   018-11-14 23:50:00                   7.820422                  0.146728   \n",
       "\n",
       "   Ch1_Anem_58.00m_E_Min_m/s  Ch1_Anem_58.00m_E_Max_m/s  \\\n",
       "0                    6.54071                    8.76584   \n",
       "1                    6.01715                    8.89673   \n",
       "2                    5.88626                    8.89673   \n",
       "3                    6.01715                    8.11139   \n",
       "4                    7.45694                    8.11139   \n",
       "\n",
       "   Ch1_Anem_58.00m_E_Gust_m/s  Ch2_Anem_50.00m_E_Avg_m/s  \\\n",
       "0                    8.722646                   7.549248   \n",
       "1                    8.591756                   7.240961   \n",
       "2                    8.678144                   6.980354   \n",
       "3                    8.068196                   6.776049   \n",
       "4                    8.068196                   7.784513   \n",
       "\n",
       "   Ch2_Anem_50.00m_E_SD_m/s  Ch2_Anem_50.00m_E_Min_m/s  \\\n",
       "0                  0.398813                    6.14798   \n",
       "1                  0.417885                    5.88672   \n",
       "2                  0.360800                    6.01735   \n",
       "3                  0.304107                    5.88672   \n",
       "4                  0.108292                    7.45428   \n",
       "\n",
       "   Ch2_Anem_50.00m_E_Max_m/s               ...                \\\n",
       "0                    9.02184               ...                 \n",
       "1                    8.49932               ...                 \n",
       "2                    8.23806               ...                 \n",
       "3                    7.71554               ...                 \n",
       "4                    8.10743               ...                 \n",
       "\n",
       "   Ch23_Vane_20.00m_W_GustDir_deg  Ch24_Vane_15.00m_E_Avg_deg  \\\n",
       "0                          131.21                      132.30   \n",
       "1                          141.67                      138.38   \n",
       "2                          136.15                      139.74   \n",
       "3                          143.08                      139.33   \n",
       "4                          226.92                      227.88   \n",
       "\n",
       "   Ch24_Vane_15.00m_E_SD_deg  Ch24_Vane_15.00m_E_GustDir_deg  \\\n",
       "0                       4.73                          133.77   \n",
       "1                       4.93                          143.75   \n",
       "2                       4.15                          131.67   \n",
       "3                       4.30                          149.12   \n",
       "4                       3.75                          228.63   \n",
       "\n",
       "   Ch25_Vane_15.00m_W_Avg_deg  Ch25_Vane_15.00m_W_SD_deg  \\\n",
       "0                      129.28                       4.18   \n",
       "1                      135.33                       4.52   \n",
       "2                      135.94                       3.85   \n",
       "3                      135.79                       4.01   \n",
       "4                      226.03                       3.90   \n",
       "\n",
       "   Ch25_Vane_15.00m_W_GustDir_deg  Ch26_Vane_57.00m_S_Avg_deg  \\\n",
       "0                            80.0                      152.62   \n",
       "1                            80.0                      158.80   \n",
       "2                            80.0                      160.42   \n",
       "3                            80.0                      166.58   \n",
       "4                            80.0                      232.27   \n",
       "\n",
       "   Ch26_Vane_57.00m_S_SD_deg  Ch26_Vane_57.00m_S_GustDir_deg  \n",
       "0                       5.19                           350.0  \n",
       "1                       6.20                           350.0  \n",
       "2                       6.15                           350.0  \n",
       "3                       4.21                           350.0  \n",
       "4                       1.20                           350.0  \n",
       "\n",
       "[5 rows x 109 columns]"
      ]
     },
     "execution_count": 8,
     "metadata": {},
     "output_type": "execute_result"
    }
   ],
   "source": [
    "data"
   ]
  },
  {
   "cell_type": "code",
   "execution_count": 9,
   "metadata": {
    "collapsed": false
   },
   "outputs": [],
   "source": [
    "from fieldanalysis.filters import classic_filters as cf"
   ]
  },
  {
   "cell_type": "code",
   "execution_count": 10,
   "metadata": {
    "collapsed": false
   },
   "outputs": [],
   "source": [
    "filters = cf(sym)"
   ]
  },
  {
   "cell_type": "code",
   "execution_count": 11,
   "metadata": {
    "collapsed": false
   },
   "outputs": [
    {
     "data": {
      "text/plain": [
       "Index(['Ch3_Anem_42.00m_E_SD_m/s', 'Ch3_Anem_42.00m_E_Min_m/s',\n",
       "       'Ch3_Anem_42.00m_E_Max_m/s', 'Ch3_Anem_42.00m_E_Gust_m/s',\n",
       "       'Ch4_Anem_54.00m_W_Avg_m/s', 'Ch4_Anem_54.00m_W_SD_m/s',\n",
       "       'Ch4_Anem_54.00m_W_Min_m/s', 'Ch4_Anem_54.00m_W_Max_m/s',\n",
       "       'Ch4_Anem_54.00m_W_Gust_m/s', 'Ch5_Anem_58.00m_W_Avg_m/s',\n",
       "       'Ch5_Anem_58.00m_W_SD_m/s', 'Ch5_Anem_58.00m_W_Min_m/s',\n",
       "       'Ch5_Anem_58.00m_W_Max_m/s', 'Ch5_Anem_58.00m_W_Gust_m/s',\n",
       "       'Ch6_Anem_50.00m_W_Avg_m/s', 'Ch6_Anem_50.00m_W_SD_m/s',\n",
       "       'Ch6_Anem_50.00m_W_Min_m/s', 'Ch6_Anem_50.00m_W_Max_m/s',\n",
       "       'Ch6_Anem_50.00m_W_Gust_m/s', 'Ch7_Anem_46.00m_E_Avg_m/s',\n",
       "       'Ch7_Anem_46.00m_E_SD_m/s', 'Ch7_Anem_46.00m_E_Min_m/s',\n",
       "       'Ch7_Anem_46.00m_E_Max_m/s', 'Ch7_Anem_46.00m_E_Gust_m/s',\n",
       "       'Ch8_Anem_46.00m_W_Avg_m/s', 'Ch8_Anem_46.00m_W_SD_m/s',\n",
       "       'Ch8_Anem_46.00m_W_Min_m/s', 'Ch8_Anem_46.00m_W_Max_m/s',\n",
       "       'Ch8_Anem_46.00m_W_Gust_m/s', 'Ch9_Anem_54.00m_E_Avg_m/s',\n",
       "       'Ch9_Anem_54.00m_E_SD_m/s', 'Ch9_Anem_54.00m_E_Min_m/s',\n",
       "       'Ch9_Anem_54.00m_E_Max_m/s', 'Ch9_Anem_54.00m_E_Gust_m/s',\n",
       "       'Ch10_Anem_42.00m_W_Avg_m/s', 'Ch10_Anem_42.00m_W_SD_m/s',\n",
       "       'Ch10_Anem_42.00m_W_Min_m/s', 'Ch10_Anem_42.00m_W_Max_m/s',\n",
       "       'Ch10_Anem_42.00m_W_Gust_m/s', 'Ch11_Anem_38.00m_E_Avg_m/s',\n",
       "       'Ch11_Anem_38.00m_E_SD_m/s', 'Ch11_Anem_38.00m_E_Min_m/s',\n",
       "       'Ch11_Anem_38.00m_E_Max_m/s', 'Ch11_Anem_38.00m_E_Gust_m/s',\n",
       "       'Ch12_Anem_38.00m_W_Avg_m/s', 'Ch12_Anem_38.00m_W_SD_m/s',\n",
       "       'Ch12_Anem_38.00m_W_Min_m/s', 'Ch12_Anem_38.00m_W_Max_m/s',\n",
       "       'Ch12_Anem_38.00m_W_Gust_m/s', 'Ch13_Vane_17.50m_S_Avg_deg',\n",
       "       'Ch13_Vane_17.50m_S_SD_deg', 'Ch13_Vane_17.50m_S_GustDir_deg',\n",
       "       'Ch14_Vane_49.00m_S_Avg_deg', 'Ch14_Vane_49.00m_S_SD_deg',\n",
       "       'Ch14_Vane_49.00m_S_GustDir_deg', 'Ch15_Vane_41.00m_S_Avg_deg',\n",
       "       'Ch15_Vane_41.00m_S_SD_deg', 'Ch15_Vane_41.00m_S_GustDir_deg',\n",
       "       'Ch16_Analog_56.00m_S_Avg_C', 'Ch16_Analog_56.00m_S_SD_C',\n",
       "       'Ch16_Analog_56.00m_S_Min_C', 'Ch16_Analog_56.00m_S_Max_C',\n",
       "       'Ch17_Analog_2.00m_S_Avg_C', 'Ch17_Analog_2.00m_S_SD_C',\n",
       "       'Ch17_Analog_2.00m_S_Min_C', 'Ch17_Analog_2.00m_S_Max_C',\n",
       "       'Ch18_Analog_2.00m__Avg_mb', 'Ch18_Analog_2.00m__SD_mb',\n",
       "       'Ch18_Analog_2.00m__Min_mb', 'Ch18_Analog_2.00m__Max_mb',\n",
       "       'Ch19_Analog_2.00m_S_Avg_%RH', 'Ch19_Analog_2.00m_S_SD_%RH',\n",
       "       'Ch19_Analog_2.00m_S_Min_%RH', 'Ch19_Analog_2.00m_S_Max_%RH',\n",
       "       'Ch20_Analog_4.00m_S_Avg_W/sqm', 'Ch20_Analog_4.00m_S_SD_W/sqm',\n",
       "       'Ch20_Analog_4.00m_S_Min_W/sqm', 'Ch20_Analog_4.00m_S_Max_W/sqm',\n",
       "       'Ch21_Analog_52.00m_S_Avg_m/s', 'Ch21_Analog_52.00m_S_SD_m/s',\n",
       "       'Ch21_Analog_52.00m_S_Min_m/s', 'Ch21_Analog_52.00m_S_Max_m/s',\n",
       "       'Ch22_Vane_20.00m_E_Avg_deg', 'Ch22_Vane_20.00m_E_SD_deg',\n",
       "       'Ch22_Vane_20.00m_E_GustDir_deg', 'Ch23_Vane_20.00m_W_Avg_deg',\n",
       "       'Ch23_Vane_20.00m_W_SD_deg', 'Ch23_Vane_20.00m_W_GustDir_deg',\n",
       "       'Ch24_Vane_15.00m_E_Avg_deg', 'Ch24_Vane_15.00m_E_SD_deg',\n",
       "       'Ch24_Vane_15.00m_E_GustDir_deg', 'Ch25_Vane_15.00m_W_Avg_deg',\n",
       "       'Ch25_Vane_15.00m_W_SD_deg', 'Ch25_Vane_15.00m_W_GustDir_deg',\n",
       "       'Ch26_Vane_57.00m_S_Avg_deg', 'Ch26_Vane_57.00m_S_SD_deg',\n",
       "       'Ch26_Vane_57.00m_S_GustDir_deg'],\n",
       "      dtype='object')"
      ]
     },
     "execution_count": 11,
     "metadata": {},
     "output_type": "execute_result"
    }
   ],
   "source": [
    "sym.get_fieldnames()[12:]"
   ]
  },
  {
   "cell_type": "code",
   "execution_count": 12,
   "metadata": {
    "collapsed": false
   },
   "outputs": [],
   "source": [
    "filters.generate_icing_filter(temp='Ch17_Analog_2.00m_S_Avg_C',vaneSD='Ch26_Vane_57.00m_S_SD_deg')"
   ]
  },
  {
   "cell_type": "code",
   "execution_count": 13,
   "metadata": {
    "collapsed": false
   },
   "outputs": [],
   "source": [
    "sym.apply_filters(filters)\n"
   ]
  },
  {
   "cell_type": "code",
   "execution_count": 14,
   "metadata": {
    "collapsed": false
   },
   "outputs": [
    {
     "data": {
      "text/html": [
       "<div>\n",
       "<table border=\"1\" class=\"dataframe\">\n",
       "  <thead>\n",
       "    <tr style=\"text-align: right;\">\n",
       "      <th></th>\n",
       "      <th>Timestamp</th>\n",
       "      <th>Ch1_Anem_58.00m_E_Avg_m/s</th>\n",
       "      <th>Ch1_Anem_58.00m_E_SD_m/s</th>\n",
       "      <th>Ch1_Anem_58.00m_E_Min_m/s</th>\n",
       "      <th>Ch1_Anem_58.00m_E_Max_m/s</th>\n",
       "      <th>Ch1_Anem_58.00m_E_Gust_m/s</th>\n",
       "      <th>Ch2_Anem_50.00m_E_Avg_m/s</th>\n",
       "      <th>Ch2_Anem_50.00m_E_SD_m/s</th>\n",
       "      <th>Ch2_Anem_50.00m_E_Min_m/s</th>\n",
       "      <th>Ch2_Anem_50.00m_E_Max_m/s</th>\n",
       "      <th>...</th>\n",
       "      <th>Ch23_Vane_20.00m_W_GustDir_deg</th>\n",
       "      <th>Ch24_Vane_15.00m_E_Avg_deg</th>\n",
       "      <th>Ch24_Vane_15.00m_E_SD_deg</th>\n",
       "      <th>Ch24_Vane_15.00m_E_GustDir_deg</th>\n",
       "      <th>Ch25_Vane_15.00m_W_Avg_deg</th>\n",
       "      <th>Ch25_Vane_15.00m_W_SD_deg</th>\n",
       "      <th>Ch25_Vane_15.00m_W_GustDir_deg</th>\n",
       "      <th>Ch26_Vane_57.00m_S_Avg_deg</th>\n",
       "      <th>Ch26_Vane_57.00m_S_SD_deg</th>\n",
       "      <th>Ch26_Vane_57.00m_S_GustDir_deg</th>\n",
       "    </tr>\n",
       "  </thead>\n",
       "  <tbody>\n",
       "    <tr>\n",
       "      <th>0</th>\n",
       "      <td>2018-06-22 00:00:00</td>\n",
       "      <td>7.611390</td>\n",
       "      <td>0.393455</td>\n",
       "      <td>6.54071</td>\n",
       "      <td>8.76584</td>\n",
       "      <td>8.722646</td>\n",
       "      <td>7.549248</td>\n",
       "      <td>0.398813</td>\n",
       "      <td>6.14798</td>\n",
       "      <td>9.02184</td>\n",
       "      <td>...</td>\n",
       "      <td>131.21</td>\n",
       "      <td>132.30</td>\n",
       "      <td>4.73</td>\n",
       "      <td>133.77</td>\n",
       "      <td>129.28</td>\n",
       "      <td>4.18</td>\n",
       "      <td>80.0</td>\n",
       "      <td>152.62</td>\n",
       "      <td>5.19</td>\n",
       "      <td>350.0</td>\n",
       "    </tr>\n",
       "    <tr>\n",
       "      <th>1</th>\n",
       "      <td>2018-06-22 00:10:00</td>\n",
       "      <td>7.505762</td>\n",
       "      <td>0.498560</td>\n",
       "      <td>6.01715</td>\n",
       "      <td>8.89673</td>\n",
       "      <td>8.591756</td>\n",
       "      <td>7.240961</td>\n",
       "      <td>0.417885</td>\n",
       "      <td>5.88672</td>\n",
       "      <td>8.49932</td>\n",
       "      <td>...</td>\n",
       "      <td>141.67</td>\n",
       "      <td>138.38</td>\n",
       "      <td>4.93</td>\n",
       "      <td>143.75</td>\n",
       "      <td>135.33</td>\n",
       "      <td>4.52</td>\n",
       "      <td>80.0</td>\n",
       "      <td>158.80</td>\n",
       "      <td>6.20</td>\n",
       "      <td>350.0</td>\n",
       "    </tr>\n",
       "    <tr>\n",
       "      <th>2</th>\n",
       "      <td>2018-06-22 00:20:00</td>\n",
       "      <td>7.248432</td>\n",
       "      <td>0.461256</td>\n",
       "      <td>5.88626</td>\n",
       "      <td>8.89673</td>\n",
       "      <td>8.678144</td>\n",
       "      <td>6.980354</td>\n",
       "      <td>0.360800</td>\n",
       "      <td>6.01735</td>\n",
       "      <td>8.23806</td>\n",
       "      <td>...</td>\n",
       "      <td>136.15</td>\n",
       "      <td>139.74</td>\n",
       "      <td>4.15</td>\n",
       "      <td>131.67</td>\n",
       "      <td>135.94</td>\n",
       "      <td>3.85</td>\n",
       "      <td>80.0</td>\n",
       "      <td>160.42</td>\n",
       "      <td>6.15</td>\n",
       "      <td>350.0</td>\n",
       "    </tr>\n",
       "    <tr>\n",
       "      <th>3</th>\n",
       "      <td>2018-06-22 00:30:00</td>\n",
       "      <td>7.176835</td>\n",
       "      <td>0.374215</td>\n",
       "      <td>6.01715</td>\n",
       "      <td>8.11139</td>\n",
       "      <td>8.068196</td>\n",
       "      <td>6.776049</td>\n",
       "      <td>0.304107</td>\n",
       "      <td>5.88672</td>\n",
       "      <td>7.71554</td>\n",
       "      <td>...</td>\n",
       "      <td>143.08</td>\n",
       "      <td>139.33</td>\n",
       "      <td>4.30</td>\n",
       "      <td>149.12</td>\n",
       "      <td>135.79</td>\n",
       "      <td>4.01</td>\n",
       "      <td>80.0</td>\n",
       "      <td>166.58</td>\n",
       "      <td>4.21</td>\n",
       "      <td>350.0</td>\n",
       "    </tr>\n",
       "  </tbody>\n",
       "</table>\n",
       "<p>4 rows × 109 columns</p>\n",
       "</div>"
      ],
      "text/plain": [
       "             Timestamp  Ch1_Anem_58.00m_E_Avg_m/s  Ch1_Anem_58.00m_E_SD_m/s  \\\n",
       "0  2018-06-22 00:00:00                   7.611390                  0.393455   \n",
       "1  2018-06-22 00:10:00                   7.505762                  0.498560   \n",
       "2  2018-06-22 00:20:00                   7.248432                  0.461256   \n",
       "3  2018-06-22 00:30:00                   7.176835                  0.374215   \n",
       "\n",
       "   Ch1_Anem_58.00m_E_Min_m/s  Ch1_Anem_58.00m_E_Max_m/s  \\\n",
       "0                    6.54071                    8.76584   \n",
       "1                    6.01715                    8.89673   \n",
       "2                    5.88626                    8.89673   \n",
       "3                    6.01715                    8.11139   \n",
       "\n",
       "   Ch1_Anem_58.00m_E_Gust_m/s  Ch2_Anem_50.00m_E_Avg_m/s  \\\n",
       "0                    8.722646                   7.549248   \n",
       "1                    8.591756                   7.240961   \n",
       "2                    8.678144                   6.980354   \n",
       "3                    8.068196                   6.776049   \n",
       "\n",
       "   Ch2_Anem_50.00m_E_SD_m/s  Ch2_Anem_50.00m_E_Min_m/s  \\\n",
       "0                  0.398813                    6.14798   \n",
       "1                  0.417885                    5.88672   \n",
       "2                  0.360800                    6.01735   \n",
       "3                  0.304107                    5.88672   \n",
       "\n",
       "   Ch2_Anem_50.00m_E_Max_m/s               ...                \\\n",
       "0                    9.02184               ...                 \n",
       "1                    8.49932               ...                 \n",
       "2                    8.23806               ...                 \n",
       "3                    7.71554               ...                 \n",
       "\n",
       "   Ch23_Vane_20.00m_W_GustDir_deg  Ch24_Vane_15.00m_E_Avg_deg  \\\n",
       "0                          131.21                      132.30   \n",
       "1                          141.67                      138.38   \n",
       "2                          136.15                      139.74   \n",
       "3                          143.08                      139.33   \n",
       "\n",
       "   Ch24_Vane_15.00m_E_SD_deg  Ch24_Vane_15.00m_E_GustDir_deg  \\\n",
       "0                       4.73                          133.77   \n",
       "1                       4.93                          143.75   \n",
       "2                       4.15                          131.67   \n",
       "3                       4.30                          149.12   \n",
       "\n",
       "   Ch25_Vane_15.00m_W_Avg_deg  Ch25_Vane_15.00m_W_SD_deg  \\\n",
       "0                      129.28                       4.18   \n",
       "1                      135.33                       4.52   \n",
       "2                      135.94                       3.85   \n",
       "3                      135.79                       4.01   \n",
       "\n",
       "   Ch25_Vane_15.00m_W_GustDir_deg  Ch26_Vane_57.00m_S_Avg_deg  \\\n",
       "0                            80.0                      152.62   \n",
       "1                            80.0                      158.80   \n",
       "2                            80.0                      160.42   \n",
       "3                            80.0                      166.58   \n",
       "\n",
       "   Ch26_Vane_57.00m_S_SD_deg  Ch26_Vane_57.00m_S_GustDir_deg  \n",
       "0                       5.19                           350.0  \n",
       "1                       6.20                           350.0  \n",
       "2                       6.15                           350.0  \n",
       "3                       4.21                           350.0  \n",
       "\n",
       "[4 rows x 109 columns]"
      ]
     },
     "execution_count": 14,
     "metadata": {},
     "output_type": "execute_result"
    }
   ],
   "source": [
    "sym.data"
   ]
  },
  {
   "cell_type": "code",
   "execution_count": null,
   "metadata": {
    "collapsed": false
   },
   "outputs": [],
   "source": [
    "a.empty"
   ]
  },
  {
   "cell_type": "code",
   "execution_count": null,
   "metadata": {
    "collapsed": false
   },
   "outputs": [],
   "source": [
    "k.values()"
   ]
  },
  {
   "cell_type": "code",
   "execution_count": null,
   "metadata": {
    "collapsed": true
   },
   "outputs": [],
   "source": []
  },
  {
   "cell_type": "code",
   "execution_count": null,
   "metadata": {
    "collapsed": true
   },
   "outputs": [],
   "source": []
  }
 ],
 "metadata": {
  "kernelspec": {
   "display_name": "Python 3",
   "language": "python",
   "name": "python3"
  },
  "language_info": {
   "codemirror_mode": {
    "name": "ipython",
    "version": 3
   },
   "file_extension": ".py",
   "mimetype": "text/x-python",
   "name": "python",
   "nbconvert_exporter": "python",
   "pygments_lexer": "ipython3",
   "version": "3.6.0"
  }
 },
 "nbformat": 4,
 "nbformat_minor": 2
}
